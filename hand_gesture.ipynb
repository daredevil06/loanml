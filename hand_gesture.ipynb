{
 "cells": [
  {
   "cell_type": "code",
   "execution_count": null,
   "metadata": {},
   "outputs": [],
   "source": [
    "import serial\n",
    "import pyautogui\n",
    "Arduino_Serial=serial.Serial(‘com7’,9600)\n",
    "\n",
    "While 1:\n",
    "incoming_data=str (Arduino_Serial.readline())\n",
    "print incoming_data\n",
    "\n",
    "if ‘next’ in incoming_data:\n",
    "pyautogui.hotkey(‘ctrl’,’pgdown’)\n",
    "\n",
    "if ‘previous’ in incoming_data:\n",
    "pyautogui.hotkey(‘ctrl’,’pgup’)\n",
    "\n",
    "if ‘down’ in incoming_data:\n",
    "\n",
    "9\n",
    "#pyautogui.press(‘down’)\n",
    "pyautogui.scroll(-1000)\n",
    "if ‘up’ in incoming_data:\n",
    "#pyautogui.press(‘up’)\n",
    "pyautogui.scroll(1000)\n",
    "if ‘change’ in incoming_data:\n",
    "pyautogui.keyDown(‘alt’)\n",
    "pyautogui.press(‘tab’)\n",
    "pyautogui.keyUp(‘alt’)\n",
    "incoming_data=””;"
   ]
  },
  {
   "cell_type": "code",
   "execution_count": null,
   "metadata": {},
   "outputs": [],
   "source": []
  }
 ],
 "metadata": {
  "kernelspec": {
   "display_name": "Python 3",
   "language": "python",
   "name": "python3"
  }
 },
 "nbformat": 4,
 "nbformat_minor": 2
}
